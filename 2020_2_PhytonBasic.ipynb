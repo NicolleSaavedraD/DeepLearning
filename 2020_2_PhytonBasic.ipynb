{
  "nbformat": 4,
  "nbformat_minor": 0,
  "metadata": {
    "colab": {
      "name": "2020_2_PhytonBasic.ipynb",
      "provenance": [],
      "collapsed_sections": [],
      "toc_visible": true
    },
    "kernelspec": {
      "name": "python3",
      "display_name": "Python 3"
    }
  },
  "cells": [
    {
      "cell_type": "markdown",
      "metadata": {
        "id": "xSDplbq0YsSV",
        "colab_type": "text"
      },
      "source": [
        "# Capitulo 1: Ejercicios basicos"
      ]
    },
    {
      "cell_type": "code",
      "metadata": {
        "id": "N7TQyPgjY6JM",
        "colab_type": "code",
        "colab": {
          "base_uri": "https://localhost:8080/",
          "height": 84
        },
        "outputId": "e1337652-91b8-449e-c62d-0bae4896a6a9"
      },
      "source": [
        "var1= int(input(\"Ingrese el número 1:\"))\n",
        "var2= int(input(\"Ingrese el número 2:\"))\n",
        "var3= int(input(\"Ingrese el número 3:\"))\n",
        "if (var1>var2 and var1>var3):\n",
        "  print(\"El número mayor es:\"+str(var1))\n",
        "elif (var2>var1 and var2 >var3):\n",
        "  print(\"El número mayor es:\"+str(var2))\n",
        "else:\n",
        "  print(\"El número mayor es:\"+str(var3))"
      ],
      "execution_count": null,
      "outputs": [
        {
          "output_type": "stream",
          "text": [
            "Ingrese el número 1:8\n",
            "Ingrese el número 2:5\n",
            "Ingrese el número 3:9\n",
            "El número mayor es:9\n"
          ],
          "name": "stdout"
        }
      ]
    },
    {
      "cell_type": "code",
      "metadata": {
        "id": "NuNHfG5_gZSG",
        "colab_type": "code",
        "colab": {
          "base_uri": "https://localhost:8080/",
          "height": 50
        },
        "outputId": "e05f45b1-08a6-4564-c34e-c8b5718358f8"
      },
      "source": [
        "var1, var2, var3 = input (\"Ingrese tres numéros separados por coma:\").split(\",\")\n",
        "print(\"El mayor es:\"+str(max(int(var1),int(var2),int(var3))))"
      ],
      "execution_count": null,
      "outputs": [
        {
          "output_type": "stream",
          "text": [
            "ingrese tres numéros separados por coma:7,8,9\n",
            "El mayor es:9\n"
          ],
          "name": "stdout"
        }
      ]
    },
    {
      "cell_type": "markdown",
      "metadata": {
        "id": "VME2_pHyg0sE",
        "colab_type": "text"
      },
      "source": [
        "# Ejercicio 2:crear un programa en python que me genere el mayor, el menor y el promedio para N números (máximo 5 líneas de código)"
      ]
    },
    {
      "cell_type": "code",
      "metadata": {
        "id": "zei3aAyowXWA",
        "colab_type": "code",
        "colab": {
          "base_uri": "https://localhost:8080/",
          "height": 134
        },
        "outputId": "d1cbcc7b-078d-48e2-9527-13a5be8f6254"
      },
      "source": [
        "lista = []\n",
        "cantidad = int(input (\"Ingrese la cantidad de numeros: \"))\n",
        "for n in range(cantidad):\n",
        "  lista.append( int(input(\"Numero \" + str(n+1) + \": \")))\n",
        "print(\"El mayor es:\"+ str(max(lista))+\", el menor es:\"+ str(min(lista))+ \", el promedio es:\"+ str(sum(lista)/cantidad))"
      ],
      "execution_count": 5,
      "outputs": [
        {
          "output_type": "stream",
          "text": [
            "Ingrese la cantidad de numeros: 5\n",
            "Numero 1: 2\n",
            "Numero 2: 5\n",
            "Numero 3: 3\n",
            "Numero 4: 6\n",
            "Numero 5: 4\n",
            "El mayor es:6, el menor es:2, el promedio es:4.0\n"
          ],
          "name": "stdout"
        }
      ]
    },
    {
      "cell_type": "code",
      "metadata": {
        "id": "KolzGsbphU2L",
        "colab_type": "code",
        "colab": {
          "base_uri": "https://localhost:8080/",
          "height": 118
        },
        "outputId": "79b9e1f8-084a-463f-f6f0-f9d4b45eb90d"
      },
      "source": [
        "x=0\n",
        "numeros=[]\n",
        "while (x < 1):\n",
        "  x = int(input(\"Digite el rango\"))\n",
        "for i in range(x):\n",
        "  num = float(input('Digite un número:'))\n",
        "  numeros.append(num)\n",
        "print (\"El promedio: \", sum(numeros)/x ,\"El número mayor es: \", max(numeros), \"El número menor es: \", min(numeros))\n",
        "\n"
      ],
      "execution_count": null,
      "outputs": [
        {
          "output_type": "stream",
          "text": [
            "Digite el rango4\n",
            "Digite un número:5\n",
            "Digite un número:4\n",
            "Digite un número:6\n",
            "Digite un número:9\n",
            "El promedio:  6.0 El número mayor es:  9.0 El número menor es:  4.0\n"
          ],
          "name": "stdout"
        }
      ]
    },
    {
      "cell_type": "markdown",
      "metadata": {
        "id": "7FzOTaHF3X3Z",
        "colab_type": "text"
      },
      "source": [
        "# Ejercicio 3: programa que simule el juego de \"frio y caliente\" entre números de 1 a 100, el software debe genera randomicamente un número (1-100) y pedirle al usuario que ingrese un número\n",
        "* si la diferencia entre el  número ingresado y el número que genero el sistema es menor de 10 \n",
        "* el debe decir \"caliente\"\n",
        "si la diferencia es mayor de 10 debe decir \"frio\""
      ]
    },
    {
      "cell_type": "code",
      "metadata": {
        "id": "5BkWFrnexNmG",
        "colab_type": "code",
        "colab": {
          "base_uri": "https://localhost:8080/",
          "height": 252
        },
        "outputId": "12163519-8c45-4e56-a204-ecb79a6bc8f5"
      },
      "source": [
        "import random\n",
        "num=random.randrange(100)\n",
        "num2=0\n",
        "while num!=num2:\n",
        "  num2= int(input (\"Ingrese un numero: \"))\n",
        "  if(num + 10 >num2 and num -10 < num2): print(\"caliente\")\n",
        "  else: print(\"frio\")"
      ],
      "execution_count": 2,
      "outputs": [
        {
          "output_type": "stream",
          "text": [
            "Ingrese un numero: 5\n",
            "caliente\n",
            "Ingrese un numero: 4\n",
            "caliente\n",
            "Ingrese un numero: 3\n",
            "caliente\n",
            "Ingrese un numero: 8\n",
            "caliente\n",
            "Ingrese un numero: 6\n",
            "caliente\n",
            "Ingrese un numero: 7\n",
            "caliente\n",
            "Ingrese un numero: 1\n",
            "caliente\n"
          ],
          "name": "stdout"
        }
      ]
    }
  ]
}