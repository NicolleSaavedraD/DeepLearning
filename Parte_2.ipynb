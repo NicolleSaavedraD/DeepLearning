{
  "nbformat": 4,
  "nbformat_minor": 0,
  "metadata": {
    "colab": {
      "name": "Parte 2.ipynb",
      "provenance": []
    },
    "kernelspec": {
      "name": "python3",
      "display_name": "Python 3"
    }
  },
  "cells": [
    {
      "cell_type": "markdown",
      "metadata": {
        "id": "yG-c_9XFNzin",
        "colab_type": "text"
      },
      "source": [
        "# 1. Diseñe un programa que me genere un listado con las edades de N habitantes de una ciudad, donde la cantidad de habitantes sea un valor randomico entre 1.000 y 75.000 y la edad de cada persona también debe ser un randomico entre 1 y 100 años. Al final del programa me debe indicar cuanto es la población total y el porcentaje de cuantos son mayores de edad (>=18) y cuantos no."
      ]
    },
    {
      "cell_type": "code",
      "metadata": {
        "id": "no2j52BEPGSg",
        "colab_type": "code",
        "colab": {}
      },
      "source": [
        "numero_1 = int(input(\"Escriba un número entero: \"))\n",
        "numero_2 = int(input(f\"Escriba un número entero mayor o igual que {numero_1}: \"))\n",
        "for i in range(numero_1, numero_2 + 1):\n",
        "    if i % 2 == 0: print(f\"El número {i} es par.\")\n",
        " \n",
        "\n",
        "\n",
        "\n"
      ],
      "execution_count": null,
      "outputs": []
    },
    {
      "cell_type": "code",
      "metadata": {
        "id": "7rqRuYesVoiO",
        "colab_type": "code",
        "colab": {}
      },
      "source": [
        "import random\n",
        "ciudadanos = []\n",
        "aux=0\n",
        "for n in range(random.randint(1000,75000)):\n",
        "  ciudadanos.append(random.randint(1,100))\n",
        "  if(ciudadanos[n]>=18): aux+=1\n",
        "print(\"Poblacion total :\"+ str(n+1) + \" Porcentaje de mayores :\" + str((aux/n)*100) + \" Porcentaje de menores :\" +str(100-(aux/n)*100))"
      ],
      "execution_count": null,
      "outputs": []
    },
    {
      "cell_type": "markdown",
      "metadata": {
        "id": "lZ9EnyRPW8YN",
        "colab_type": "text"
      },
      "source": [
        "# 2. Diseñe un programa (máximo 5 líneas) donde 6 candidat@s se disputan la alcaldía (ayuntamiento municipal), los candidat@s de los siguientes partidos:\n",
        "\n",
        "1 – socio-democratico\n",
        "2 – Ultra-derechista\n",
        "3 – primero los ricos\n",
        "4 – Centro demoniaco\n",
        "5 – Cambio invertido\n",
        "6 – Alianza queremos más pobres\n",
        "\n",
        "Los votos de cada candidato son generados de forma aleatoria entre 1 y 25000 votos máximo, el software debe determinar quién fue el ganador. (utilicé la librería numpy)\n",
        "# Nueva sección"
      ]
    },
    {
      "cell_type": "code",
      "metadata": {
        "id": "-C9Pkt4dXc7E",
        "colab_type": "code",
        "colab": {}
      },
      "source": [
        "import numpy as np\n",
        "partidos = [\"socio-democrático\", \"ultra-derechista\", \"primero los ricos\", \"centro democrático\", \"cambio invertido\", \"alianza queremos mas pobres\"]\n",
        "votos_por_partido = np.random.randint(1, 25001, 6)\n",
        "print(f\"El ganador es el partido: '{partidos[np.argmax(votos_por_partido)]}' con {max(votos_por_partido)} votos\")"
      ],
      "execution_count": null,
      "outputs": []
    },
    {
      "cell_type": "markdown",
      "metadata": {
        "id": "iDgelZU2aROA",
        "colab_type": "text"
      },
      "source": [
        "# 3. Diseñe un programa donde 6 candidat@s se presentan a la disputa para la Gobernación del departamento (estado), los candid@tos de los siguientes partidos:\n",
        "\n",
        "1 – socio-democratico\n",
        "2 – Ultra-derechista\n",
        "3 – primero los ricos\n",
        "4 – Centro demoniaco\n",
        "5 – Cambio invertido\n",
        "6 – Alianza queremos más pobres\n",
        "\n",
        "Los votos de cada candidat@s son generados de forma aleatoria entre 1 y 4500 votos máximo para cada uno de los 123 municipios del departamento, el software debe determinar quién fue ganador@.\n"
      ]
    },
    {
      "cell_type": "code",
      "metadata": {
        "id": "rAybz1QacJZ7",
        "colab_type": "code",
        "colab": {}
      },
      "source": [
        "import numpy as np\n",
        "partidos = [\"socio-democrático\", \"ultra-derechista\", \"primero los ricos\", \"centro democrático\", \"cambio invertido\", \"alianza queremos mas pobres\"]\n",
        "votos = np.random.randint(1, 4500, (123, 6))\n",
        "print(f\" El ganador es el partido {partidos[np.argmax(votos.sum(axis=0))]} con {max(votos.sum(axis=0))} votos\")"
      ],
      "execution_count": null,
      "outputs": []
    },
    {
      "cell_type": "code",
      "metadata": {
        "id": "xZuX-61qgjlz",
        "colab_type": "code",
        "colab": {}
      },
      "source": [
        "import random\n",
        "parties = [\"socio-democratico\", \"Ultra-derechista\", \"Primero los ricos\", \"Centro demoniaco\", \"Cambio invertido\", \"Alianza queremos más pobres\"]\n",
        "municipality = [random.sample(range(1, 3001), 6) for x in range(0, 124)]\n",
        "results = [sum(col) for col in zip(*municipality)] \n",
        "print(\"The winer was: \" + parties[results.index(max(results))])"
      ],
      "execution_count": null,
      "outputs": []
    },
    {
      "cell_type": "markdown",
      "metadata": {
        "id": "TntynGUPXVEF",
        "colab_type": "text"
      },
      "source": [
        "# 4. Crear un programa en PYTHON para simular una carrera de fórmula uno, en donde existen 5 vehículos: \n",
        "\n",
        "•\tRenault \n",
        "•\tFerrari \n",
        "•\tMercedez \n",
        "•\tFord \n",
        "•\tRed bull\n",
        "\n",
        "La carrera está diseñada para 4 vueltas donde el tiempo mínimo es 8.2 segundos y el máximo es 10 segundos.\n",
        "\n",
        "Diseñe la matriz de 5 x 4 donde determine cuál es el vehículo ganador donde los tiempos de cada vehículo por vuelta se un randomico.\n"
      ]
    },
    {
      "cell_type": "code",
      "metadata": {
        "id": "VAhVeOftdJA8",
        "colab_type": "code",
        "colab": {}
      },
      "source": [
        ""
      ],
      "execution_count": null,
      "outputs": []
    },
    {
      "cell_type": "markdown",
      "metadata": {
        "id": "Py7qW4lkTEhX",
        "colab_type": "text"
      },
      "source": [
        "# 5. Programa (máximo 5 líneas) que me visualice únicamente los números pares existentes entre dos números"
      ]
    },
    {
      "cell_type": "code",
      "metadata": {
        "id": "jWe4mraEXCvN",
        "colab_type": "code",
        "colab": {}
      },
      "source": [
        "import random\n",
        "municipality = [random.sample(range(1, 45001), 6) for x in range(0, 124)]\n",
        "results = [sum(col) for col in zip(*municipality)]\n",
        "print(\"The winer was: \" + str(results.index(max(results))))"
      ],
      "execution_count": null,
      "outputs": []
    }
  ]
}